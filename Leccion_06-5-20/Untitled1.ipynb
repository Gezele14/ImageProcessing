{
 "cells": [
  {
   "cell_type": "markdown",
   "metadata": {},
   "source": [
    "# Leccion "
   ]
  },
  {
   "cell_type": "code",
   "execution_count": 4,
   "metadata": {},
   "outputs": [],
   "source": [
    "clc; clear\n",
    "pkg load image\n",
    "pkg load video\n",
    "%Comado para cargar un video\n",
    "V = VideoReader('video_original.mp4'); %V es un objeto que contiene informacion del video\n",
    "fr = V.NumberOfFrames; %Numero de marcos\n",
    "\n",
    "m = V.Height; %Numero de filas de cada marco\n",
    "n = V.Width; %Numero de filas de cada marco\n",
    "m = round(m/2); n = round(n/2); %Redimensionar el tamano de cada marco\n",
    "Y = uint8(zeros(m,n,3,fr)); %La matriz donde guarda todos los marcos del video en su nuevo tamano\n",
    "\n",
    "%Leer el video y guardar cada uno de los marcos en si nuevo tamano\n",
    "for k =1 : fr\n",
    "  Z = readFrame(V); %Leer cada uno de los marcos del video. Z es una imagen a color\n",
    "  Y(:,:,1,k) = imresize(Z(:,:,1), [m,n]);\n",
    "  Y(:,:,2,k) = imresize(Z(:,:,2), [m,n]);\n",
    "  Y(:,:,3,k) = imresize(Z(:,:,3), [m,n]);\n",
    "end \n",
    "\n",
    "%Crear un video nuevos\n",
    "video = VideoWriter('video_salida.mp4');\n",
    "for i = 1 : fr\n",
    "  writeVideo(video, Y(:,:,:,i));\n",
    "end\n",
    "\n",
    "close(video)\n"
   ]
  },
  {
   "cell_type": "code",
   "execution_count": null,
   "metadata": {},
   "outputs": [],
   "source": []
  }
 ],
 "metadata": {
  "kernelspec": {
   "display_name": "Octave",
   "language": "octave",
   "name": "octave"
  },
  "language_info": {
   "file_extension": ".m",
   "help_links": [
    {
     "text": "GNU Octave",
     "url": "https://www.gnu.org/software/octave/support.html"
    },
    {
     "text": "Octave Kernel",
     "url": "https://github.com/Calysto/octave_kernel"
    },
    {
     "text": "MetaKernel Magics",
     "url": "https://metakernel.readthedocs.io/en/latest/source/README.html"
    }
   ],
   "mimetype": "text/x-octave",
   "name": "octave",
   "version": "5.2.0"
  }
 },
 "nbformat": 4,
 "nbformat_minor": 2
}
