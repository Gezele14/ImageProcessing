{
 "cells": [
  {
   "cell_type": "markdown",
   "metadata": {},
   "source": [
    "<div style=\"text-align: left;\" role=\"presentation\">\n",
    "<h1 role=\"presentation\"><strong><span role=\"presentation\">Lecci&oacute;n: 3 Miércoles 04 de Marzo</span></strong></h1>"
   ]
  },
  {
   "cell_type": "markdown",
   "metadata": {},
   "source": [
    "# Operaciones Geometricas:\n",
    "\n",
    "* Sea $A\\in\\mathbb{R}^{m\\times n}$ la representacion en double de una imagen. Sea $A(x,y)$ la entrada $(x,y)$ de la imagen $A$. Deseamos modificar el orden de las entradas $(x,y)$ de $A$ para obtener una nueva imagen $B$ tal que.\n",
    "\n",
    "$$A(x,y) = B(x',y')$$\n",
    "    \n",
    "\n",
    "* El cambiar la entrada $A(x,y)$ a la posicion $(x',y')$ se realiza a partir de una transformacion.\n",
    "\n",
    "$$(x',y') = T(x,y) = (T_{x}(x,y), T_{y}(x,y))$$\n",
    "\n",
    "donde  $T$ es la transformacion ccompuesta por 2 subtransformaciones $T_{x}$, $T_{y}$.\n",
    "    \n",
    "* Nosotros Veremos un conjunto de transformaciones lineales(llamdas afines) de la forma.\n",
    "\n",
    "$$X' = Tx(x,y)=a_{0}x+a_{1}y+a_{2}$$\n",
    "$$Y' = Ty(x,y)=b_{0}x+b_{1}y+b_{2}$$\n",
    "\n",
    "* Las ecuaciones anteriores pueden ser representadas como:\n",
    "\n",
    "$$\\begin{bmatrix}X'\\\\Y'\\\\1\\end{bmatrix} = \\begin{bmatrix}a_{0}& a_{1} & a_{2}\\\\b_{0}& b_{1} & b_{2}\\\\0 & 0 & 1\\end{bmatrix}\\begin{bmatrix}x\\\\ 1\\\\1\\end{bmatrix}$$\n",
    "\n",
    "<h3><center>Tabla de Transformadas en Octave</center></h3>\n",
    "\n",
    "|Transformada|$a{0}$|$a{1}$|$a{2}$|$b{0}$|$b{1}$|$b{2}$|\n",
    "|---|---|---|---|---|---|---|\n",
    "|$$Translacion \\Delta{x},\\Delta{y}$$ | $$1$$ | $$0$$ | $$\\Delta{x} $$ | $$0$$ | $$1$$ | $$\\Delta{y}$$|\n",
    "|$$Escalar [S_{x},S_{x}]$$ | $$S_{x}$$ | $$0$$ | $$0$$ | $$0$$ | $$S_{y}$$ | $$0$$|\n",
    "|$$Rotar \\theta$$ | $$cos(\\theta)$$ | $$sin(\\theta)$$ | $$0$$ | $$-sin(\\theta)$$ | $$cos(\\theta)$$ | $$0$$ |"
   ]
  },
  {
   "cell_type": "code",
   "execution_count": 2,
   "metadata": {},
   "outputs": [],
   "source": [
    "function Y=rotar(A, angulo)\n",
    "  #A es la matriz que representa la imagen (8 bits)\n",
    "  #Angulo debe estar en grados\n",
    "  #Y es la imagen rotada\n",
    "  a0=cosd(angulo); a1=sind(angulo); a2=0;\n",
    "  b0=-sind(angulo); b1=cosd(angulo); b2=0;\n",
    "  \n",
    "  %Centro\n",
    "  [m,n,r] = size(A);\n",
    "  xc=round(m/2); yc=round(n/2);\n",
    "  Y=zeros(m,n,r);\n",
    "  Y=uint8(Y);\n",
    "  \n",
    "  for x=1:m\n",
    "    for y=1:n\n",
    "      xnew= mod(round(a0*(x-xc)+a1*(y-yc)+xc),m);\n",
    "      ynew= mod(round(b0*(x-xc)+b1*(y-yc)+yc),n);\n",
    "      xaux= round(a0*(x-xc)+a1*(y-yc)+xc);\n",
    "      yaux= round(b0*(x-xc)+b1*(y-yc)+yc);\n",
    "      if and(xnew==xaux, ynew==yaux)\n",
    "        Y(xnew+1, ynew+1, :) = A(x,y,:);\n",
    "      endif\n",
    "    endfor\n",
    "  endfor\n",
    "  \n",
    "  \n",
    "endfunction"
   ]
  },
  {
   "cell_type": "code",
   "execution_count": null,
   "metadata": {},
   "outputs": [],
   "source": [
    "clc; clear;\n",
    "pkg load image; %Carga el paquete de imagenes\n",
    "\n",
    "A = imread('files/barbara.jpg');\n",
    "\n",
    "%Rotar de la imagen A\n",
    "deltax = 200; deltay = 150;\n",
    "\n",
    "angulo = 30;\n",
    "a0=cosd(angulo); a1=sind(angulo); a2=0;\n",
    "b0=-sind(angulo); b1=cosd(angulo); b2=0;\n",
    "\n",
    "T = [a0 a1 a2; b0 b1 b2; 0 0 1];\n",
    "\n",
    "Tr = maketform('affine', T'); %Crear la transformacion\n",
    "\n",
    "B=rotar(A, 40);\n",
    "C=promedio(B)\n",
    "\n",
    "subplot(1,3,1) \n",
    "imshow(A)\n",
    "title('Normal')\n",
    "\n",
    "subplot(1,3,2)\n",
    "imshow(B)\n",
    "title('rotar(A, 40)')\n",
    "\n",
    "subplot(1,3,3)\n",
    "imshow(C)\n",
    "title('rotar(A, 40) + funcion promedio')"
   ]
  },
  {
   "cell_type": "markdown",
   "metadata": {},
   "source": [
    "# Interpolacion:\n",
    "\n",
    "Asuma la siguiente parte de una imagen\n",
    "\n",
    "<table style=\"width:25%\">\n",
    "  <tr>\n",
    "    <td>(x-1,y-1)</td>\n",
    "    <td>(x-1,y)</td>\n",
    "    <td>(x-1,y+1)</td>\n",
    "  </tr>\n",
    "  <tr>\n",
    "    <td>(x,y-1)</td>\n",
    "    <td>(x,y)</td>\n",
    "    <td>(x,y+1)</td>\n",
    "  </tr>\n",
    "  <tr>\n",
    "    <td>(x+1,y-1)</td>\n",
    "    <td>(x+1,y)</td>\n",
    "    <td>(x+1,y+1)</td>\n",
    "  </tr>\n",
    "</table>\n",
    "\n",
    "El método de interpolación consiste en aproximar el valor de un pixel de una imagen, utilizando la información de los pixeles que hay al rededor. Un método de interpolacion es el de promedio.\n"
   ]
  },
  {
   "cell_type": "code",
   "execution_count": 3,
   "metadata": {},
   "outputs": [],
   "source": [
    "function B = promedio(A)\n",
    "  #A es la matriz a la cual de le hara limpieza\n",
    "  [m,n,r] = size(A);\n",
    "  A = im2double(A);\n",
    "  B = A;\n",
    "  for x=1:m\n",
    "    for y=1:n\n",
    "     if or((A(x,y,1) == 0), (A(x,y,2) == 0), (A(x,y,3) == 0))\n",
    "       if and(x==1, y==1)\n",
    "        newpixel = (A(x,y+1,:)+A(x+1,y,:)+A(x+1,y+1,:))/3;\n",
    "       elseif and(x==m,y==1)\n",
    "         newpixel = (A(x-1,y,:)+A(x-1,y+1,:)+A(x,y+1,:))/3;\n",
    "       elseif and(x==1,y==n)\n",
    "         newpixel = (A(x,y-1,:)+A(x+1,y-1,:)+A(x+1,y,:))/3;\n",
    "       elseif and(x==m,y==n)\n",
    "         newpixel = (A(x-1,y,:)+A(x-1,y-1,:)+A(x,y-1,:))/3;\n",
    "       elseif and(x>1,y>1,x<m,y<n)\n",
    "         newpixel = (A(x-1,y-1,:)+A(x,y-1,:)+A(x+1,y-1,:)+A(x+1,y,:)+A(x+1,y+1,:)+A(x,y+1,:)+A(x-1,y+1,:)+A(x-1,y,:))/8;\n",
    "       elseif y==1\n",
    "         newpixel = (A(x-1,y,:)+A(x-1,y+1,:)+A(x,y+1,:)+A(x+1,y+1,:)+A(x+1,y,:))/5;\n",
    "       elseif x==1\n",
    "         newpixel = (A(x,y-1,:)+A(x+1,y-1,:)+A(x+1,y,:)+A(x+1,y+1,:)+A(x,y+1,:))/5;\n",
    "       elseif x==m\n",
    "         newpixel = (A(x,y-1,:)+A(x-1,y-1,:)+A(x-1,y,:)+A(x-1,y+1,:)+A(x,y+1,:))/5;\n",
    "       elseif y==n\n",
    "         newpixel = (A(x-1,y,:)+A(x-1,y-1,:)+A(x,y-1,:)+A(x+1,y-1,:)+A(x+1,y,:))/5;\n",
    "       endif\n",
    "       B(x,y,:) = newpixel(1,1,:);\n",
    "     else\n",
    "       continue\n",
    "     endif\n",
    "    endfor\n",
    "  endfor\n",
    "endfunction"
   ]
  },
  {
   "cell_type": "code",
   "execution_count": null,
   "metadata": {},
   "outputs": [],
   "source": []
  }
 ],
 "metadata": {
  "kernelspec": {
   "display_name": "Octave",
   "language": "octave",
   "name": "octave"
  },
  "language_info": {
   "file_extension": ".m",
   "help_links": [
    {
     "text": "GNU Octave",
     "url": "https://www.gnu.org/software/octave/support.html"
    },
    {
     "text": "Octave Kernel",
     "url": "https://github.com/Calysto/octave_kernel"
    },
    {
     "text": "MetaKernel Magics",
     "url": "https://metakernel.readthedocs.io/en/latest/source/README.html"
    }
   ],
   "mimetype": "text/x-octave",
   "name": "octave",
   "version": "5.2.0"
  }
 },
 "nbformat": 4,
 "nbformat_minor": 2
}
