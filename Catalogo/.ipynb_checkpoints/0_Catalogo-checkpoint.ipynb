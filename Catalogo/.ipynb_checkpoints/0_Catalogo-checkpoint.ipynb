{
 "cells": [
  {
   "cell_type": "markdown",
   "metadata": {
    "kernel": "SoS"
   },
   "source": [
    "<div style=\"text-align: center;\" role=\"presentation\">\n",
    "<h1 role=\"presentation\"><strong><span role=\"presentation\">Procesamiento y An&aacute;lisis de Im&aacute;genes Digitales - Semestre I 2020</span></strong></h1>"
   ]
  },
  {
   "cell_type": "markdown",
   "metadata": {
    "kernel": "SoS"
   },
   "source": [
    "<h1 style=\"text-align: center;\"><span style=\"color: #0000ff;\">Cat&aacute;logo Semanal</span></h1>"
   ]
  },
  {
   "cell_type": "markdown",
   "metadata": {
    "kernel": "SoS"
   },
   "source": [
    "<h3><span style=\"text-decoration: underline;\">Nombre:</span>&nbsp;Gerardo Zeled&oacute;n Mart&iacute;nez</h3>\n",
    "<h3><span style=\"text-decoration: underline;\">Carnet:</span>&nbsp;2016243863</h3>"
   ]
  },
  {
   "cell_type": "markdown",
   "metadata": {
    "kernel": "SoS"
   },
   "source": [
    "<p><strong>Descripci&oacute;n:&nbsp;</strong>Este documento presenta un cat&aacute;logo del trabajo realizado en las clases del curso de Procesamiento y An&aacute;lisis de Im&aacute;genes Digitales.</p>"
   ]
  },
  {
   "cell_type": "markdown",
   "metadata": {
    "kernel": "SoS"
   },
   "source": [
    "<h3><span style=\"color: #008080;\"><strong>Semanas</strong></span></h3>\n",
    "\n",
    "[<p><strong>Lecci&oacute;n 1 (Mi&eacute;rcoles 26 de Febrero)</strong></p>](leccion1.ipynb)\n",
    "\n",
    "[<p><strong>Lecci&oacute;n 2 (Viernes 28 de Febrero)</strong></p>](leccion2.ipynb)\n",
    "\n",
    "[<p><strong>Lecci&oacute;n 3 (Mi&eacute;rcoles 4 de Marzo)</strong></p>](leccion3.ipynb)\n",
    "\n",
    "[<p><strong>Lecci&oacute;n 4 Y 5 (Viernes 6 y Mi&eacute;rcoles 11 de Marzo)</strong></p>](leccion4y5.ipynb)\n",
    "\n",
    "[<p><strong>Lecci&oacute;n 6 (Viernes 13 de Marzo)</strong></p>](leccion6.ipynb)\n",
    "\n",
    "[<p><strong>Lecci&oacute;n 7 (Mi&eacute;rcoles 13 de Mayo)</strong></p>](leccion7.ipynb)\n",
    "\n",
    "[<p><strong>Lecci&oacute;n 8 (Viernes 15 de Mayo)</strong></p>](leccion8.ipynb)\n",
    "\n",
    "[<p><strong>Lecci&oacute;n 9 (Mi&eacute;rcoles 20 de Mayo)</strong></p>](leccion9.ipynb)\n",
    "\n",
    "[<p><strong>Lecci&oacute;n 10 (Viernes 22 de Mayo)</strong></p>](leccion10.ipynb)\n",
    "\n",
    "[<p><strong>Lecci&oacute;n 11 (Mi&eacute;rcoles 27 de Mayo)</strong></p>](leccion11.ipynb)\n",
    "\n",
    "[<p><strong>Lecci&oacute;n 12 (Viernes 29 de Mayo)</strong></p>](leccion12.ipynb)\n",
    "\n",
    "[<p><strong>Lecci&oacute;n 13 (Mi&eacute;rcoles 03 de Junio)</strong></p>](leccion13.ipynb)\n",
    "\n",
    "[<p><strong>Lecci&oacute;n 14 (Viernes 05 de junio)</strong></p>](leccion14.ipynb)\n",
    "\n",
    "[<p><strong>Lecci&oacute;n 15 (Mi&eacute;rcoles 10 de Junio)</strong></p>](leccion15.ipynb)"
   ]
  },
  {
   "cell_type": "code",
   "execution_count": null,
   "metadata": {},
   "outputs": [],
   "source": []
  }
 ],
 "metadata": {
  "kernelspec": {
   "display_name": "Octave",
   "language": "octave",
   "name": "octave"
  },
  "language_info": {
   "file_extension": ".m",
   "help_links": [
    {
     "text": "GNU Octave",
     "url": "https://www.gnu.org/software/octave/support.html"
    },
    {
     "text": "Octave Kernel",
     "url": "https://github.com/Calysto/octave_kernel"
    },
    {
     "text": "MetaKernel Magics",
     "url": "https://metakernel.readthedocs.io/en/latest/source/README.html"
    }
   ],
   "mimetype": "text/x-octave",
   "name": "octave",
   "version": "5.2.0"
  },
  "sos": {
   "kernels": [],
   "panel": {
    "displayed": true,
    "height": 0
   },
   "version": "0.20.6"
  }
 },
 "nbformat": 4,
 "nbformat_minor": 2
}
