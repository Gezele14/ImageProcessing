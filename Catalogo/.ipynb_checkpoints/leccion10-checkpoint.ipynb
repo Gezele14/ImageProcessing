{
 "cells": [
  {
   "cell_type": "markdown",
   "metadata": {},
   "source": [
    "<div style=\"text-align: left;\" role=\"presentation\">\n",
    "<h1 role=\"presentation\"><strong><span role=\"presentation\">Lecci&oacute;n 8 Viernes 22 de Mayo</span></strong></h1>"
   ]
  },
  {
   "cell_type": "markdown",
   "metadata": {},
   "source": [
    "## Continuacion de la leccion 9"
   ]
  },
  {
   "cell_type": "markdown",
   "metadata": {},
   "source": []
  },
  {
   "cell_type": "code",
   "execution_count": 8,
   "metadata": {},
   "outputs": [],
   "source": [
    "% Ejemplo de convolucion en imagenes\n",
    "clc; clear;\n",
    "pkg load image\n",
    "\n",
    "A = imread('files/child.jpg');\n",
    "\n",
    "subplot(1, 2, 1);\n",
    "imshow(A);\n",
    "title('Imagen Original');\n",
    "\n",
    "% Crea matriz B\n",
    "B1 = [-1 -2 -1; 0 0 0; 1 2 1]; % Detectar bordes horizontales (Operador de Sobel)\n",
    "B2 = [-1 0 1; -2 0 2; -1 0 1]; % Detectar bordes verticales (Operador de Sobel)\n",
    "\n",
    "\n",
    "A = double(A);\n",
    "\n",
    "D1 = conv2(A, B1); % Convolucion A y B\n",
    "D2 = conv2(A, B2); % Convolucion A y B\n",
    "\n",
    "E = sqrt(D1.^2 + D2.^2);\n",
    "\n",
    "[m, n] = size(A);\n",
    "E = uint8(E(2 : m + 1, 2: n + 1));\n",
    "\n",
    "subplot(1, 2, 2);\n",
    "imshow(E);\n",
    "title('Imagen - Bordes - Sobel');"
   ]
  },
  {
   "cell_type": "markdown",
   "metadata": {},
   "source": [
    "## Filtros en el dominio espacial\n",
    "\n",
    "* Se refiere al plano de l imagen original. Los metodos se basan directamente en la manipulacion de los pixeles de la imagen.\n",
    "\n",
    "* Las transformaciones vistas anteriormente:\n",
    "    * Operaciones Geometricas.\n",
    "    * Transformaciones lineales y no lineales\n",
    "    * uso de histogramas\n",
    "    * Convolucion\n",
    "    \n",
    "* Son ejemplis de metodos aplicados en el dominio espacial.\n",
    "\n",
    "* En esta parte del curso veremos un conjunto de metodos llamados filtros, que permiten modificar una imagen.\n",
    "\n",
    "* Se entendera el concepto de filtro a un operacion (mayormente convolucion) que se aplica a una imagen $A$ con una matriz $B$ llamada mascara\n",
    "\n",
    "### Clasificacion de filtros\n",
    "\n",
    "#### 1. Filtro paso bajos:\n",
    "\n",
    "* Atenuar los componentes de alta frecuencia (detalles finos) y preservar componentes de baja frecuencia (detalles gruesos).\n",
    "\n",
    "#### 1. Filtro paso altos:\n",
    "\n",
    "* Hace lo contrario que el filtro paso bajo con el efecto secundario de mejorar los pixeles con ruido."
   ]
  },
  {
   "cell_type": "code",
   "execution_count": null,
   "metadata": {},
   "outputs": [],
   "source": []
  }
 ],
 "metadata": {
  "kernelspec": {
   "display_name": "Octave",
   "language": "octave",
   "name": "octave"
  },
  "language_info": {
   "file_extension": ".m",
   "help_links": [
    {
     "text": "GNU Octave",
     "url": "https://www.gnu.org/software/octave/support.html"
    },
    {
     "text": "Octave Kernel",
     "url": "https://github.com/Calysto/octave_kernel"
    },
    {
     "text": "MetaKernel Magics",
     "url": "https://metakernel.readthedocs.io/en/latest/source/README.html"
    }
   ],
   "mimetype": "text/x-octave",
   "name": "octave",
   "version": "5.2.0"
  }
 },
 "nbformat": 4,
 "nbformat_minor": 4
}
